{
 "cells": [
  {
   "cell_type": "markdown",
   "id": "6d32e23f",
   "metadata": {},
   "source": [
    "# Numbers and percentages with value_counts()"
   ]
  },
  {
   "cell_type": "markdown",
   "id": "2368a91a",
   "metadata": {},
   "source": [
    "Frequence tables and cross tabbings can be calculated using the command <strong>crosstab()</strong>. The command <strong>value_counts()</strong> also has many advantages. In the following some tricks are introduced."
   ]
  },
  {
   "cell_type": "code",
   "execution_count": 13,
   "id": "30a3e41b",
   "metadata": {},
   "outputs": [
    {
     "name": "stdout",
     "output_type": "stream",
     "text": [
      "<class 'pandas.core.frame.DataFrame'>\n",
      "RangeIndex: 82 entries, 0 to 81\n",
      "Data columns (total 17 columns):\n",
      " #   Column        Non-Null Count  Dtype  \n",
      "---  ------        --------------  -----  \n",
      " 0   number        82 non-null     int64  \n",
      " 1   sex           82 non-null     int64  \n",
      " 2   age           82 non-null     int64  \n",
      " 3   family        82 non-null     int64  \n",
      " 4   education     81 non-null     float64\n",
      " 5   empl_years    80 non-null     float64\n",
      " 6   salary        82 non-null     int64  \n",
      " 7   management    82 non-null     int64  \n",
      " 8   colleagues    81 non-null     float64\n",
      " 9   environment   82 non-null     int64  \n",
      " 10  salary_level  82 non-null     int64  \n",
      " 11  duties        82 non-null     int64  \n",
      " 12  occu_health   47 non-null     float64\n",
      " 13  timeshare     20 non-null     float64\n",
      " 14  gym           9 non-null      float64\n",
      " 15  massage       22 non-null     float64\n",
      " 16  duties_obj    82 non-null     object \n",
      "dtypes: float64(7), int64(9), object(1)\n",
      "memory usage: 11.0+ KB\n"
     ]
    }
   ],
   "source": [
    "### Let's import the library <em>pandas</em> and call it pd\n",
    "\n",
    "import pandas as pd\n",
    "\n",
    "### Opening the data in the dataframe called df\n",
    "\n",
    "df = pd.read_excel('https://myy.haaga-helia.fi/~menetelmat/Data-analytiikka/Teaching/data1_en.xlsx')\n",
    "\n",
    "### Let's add one variable with type object to the data\n",
    "\n",
    "df['duties_obj'] = df['duties'].replace({1 : 'Very unsatisfied', 2 : 'Unsatisfied', 3: 'Not satisfied or unsatisfied', 4 : 'Satisfied', 5 : 'Very satisfied'})\n",
    "\n",
    "### Now there are integer (int64), floating-point number (float64) and object type variables in the data. \n",
    "\n",
    "df.info()"
   ]
  },
  {
   "cell_type": "markdown",
   "id": "e2592a2c",
   "metadata": {},
   "source": [
    "## Order compliant with frequencies"
   ]
  },
  {
   "cell_type": "code",
   "execution_count": 14,
   "id": "5c8c56ad",
   "metadata": {},
   "outputs": [
    {
     "data": {
      "text/plain": [
       "3    30\n",
       "4    23\n",
       "5    11\n",
       "1     9\n",
       "2     9\n",
       "Name: environment, dtype: int64"
      ]
     },
     "execution_count": 14,
     "metadata": {},
     "output_type": "execute_result"
    }
   ],
   "source": [
    "### As default value_counts() orders frequencies in descending order\n",
    "\n",
    "df['environment'].value_counts()"
   ]
  },
  {
   "cell_type": "code",
   "execution_count": 15,
   "id": "085a4ee6",
   "metadata": {},
   "outputs": [
    {
     "data": {
      "text/html": [
       "<div>\n",
       "<style scoped>\n",
       "    .dataframe tbody tr th:only-of-type {\n",
       "        vertical-align: middle;\n",
       "    }\n",
       "\n",
       "    .dataframe tbody tr th {\n",
       "        vertical-align: top;\n",
       "    }\n",
       "\n",
       "    .dataframe thead th {\n",
       "        text-align: right;\n",
       "    }\n",
       "</style>\n",
       "<table border=\"1\" class=\"dataframe\">\n",
       "  <thead>\n",
       "    <tr style=\"text-align: right;\">\n",
       "      <th></th>\n",
       "      <th>environment</th>\n",
       "    </tr>\n",
       "  </thead>\n",
       "  <tbody>\n",
       "    <tr>\n",
       "      <th>3</th>\n",
       "      <td>30</td>\n",
       "    </tr>\n",
       "    <tr>\n",
       "      <th>4</th>\n",
       "      <td>23</td>\n",
       "    </tr>\n",
       "    <tr>\n",
       "      <th>5</th>\n",
       "      <td>11</td>\n",
       "    </tr>\n",
       "    <tr>\n",
       "      <th>1</th>\n",
       "      <td>9</td>\n",
       "    </tr>\n",
       "    <tr>\n",
       "      <th>2</th>\n",
       "      <td>9</td>\n",
       "    </tr>\n",
       "  </tbody>\n",
       "</table>\n",
       "</div>"
      ],
      "text/plain": [
       "   environment\n",
       "3           30\n",
       "4           23\n",
       "5           11\n",
       "1            9\n",
       "2            9"
      ]
     },
     "execution_count": 15,
     "metadata": {},
     "output_type": "execute_result"
    }
   ],
   "source": [
    "### Output is not a dataframe, but it can be changed to be using the command <strong>to_frame()</strong>\n",
    "\n",
    "df['environment'].value_counts().to_frame()"
   ]
  },
  {
   "cell_type": "code",
   "execution_count": 16,
   "id": "e61bfe5e",
   "metadata": {},
   "outputs": [
    {
     "data": {
      "text/html": [
       "<div>\n",
       "<style scoped>\n",
       "    .dataframe tbody tr th:only-of-type {\n",
       "        vertical-align: middle;\n",
       "    }\n",
       "\n",
       "    .dataframe tbody tr th {\n",
       "        vertical-align: top;\n",
       "    }\n",
       "\n",
       "    .dataframe thead th {\n",
       "        text-align: right;\n",
       "    }\n",
       "</style>\n",
       "<table border=\"1\" class=\"dataframe\">\n",
       "  <thead>\n",
       "    <tr style=\"text-align: right;\">\n",
       "      <th></th>\n",
       "      <th>environment</th>\n",
       "    </tr>\n",
       "  </thead>\n",
       "  <tbody>\n",
       "    <tr>\n",
       "      <th>1</th>\n",
       "      <td>9</td>\n",
       "    </tr>\n",
       "    <tr>\n",
       "      <th>2</th>\n",
       "      <td>9</td>\n",
       "    </tr>\n",
       "    <tr>\n",
       "      <th>5</th>\n",
       "      <td>11</td>\n",
       "    </tr>\n",
       "    <tr>\n",
       "      <th>4</th>\n",
       "      <td>23</td>\n",
       "    </tr>\n",
       "    <tr>\n",
       "      <th>3</th>\n",
       "      <td>30</td>\n",
       "    </tr>\n",
       "  </tbody>\n",
       "</table>\n",
       "</div>"
      ],
      "text/plain": [
       "   environment\n",
       "1            9\n",
       "2            9\n",
       "5           11\n",
       "4           23\n",
       "3           30"
      ]
     },
     "execution_count": 16,
     "metadata": {},
     "output_type": "execute_result"
    }
   ],
   "source": [
    "### With parameter ascending frequencies are ordered in the corresponding order\n",
    "\n",
    "df['environment'].value_counts(ascending = True).to_frame()"
   ]
  },
  {
   "cell_type": "markdown",
   "id": "41084ad9",
   "metadata": {},
   "source": [
    "## Order compliant with variable"
   ]
  },
  {
   "cell_type": "code",
   "execution_count": 17,
   "id": "0a19a4f6",
   "metadata": {},
   "outputs": [
    {
     "data": {
      "text/html": [
       "<div>\n",
       "<style scoped>\n",
       "    .dataframe tbody tr th:only-of-type {\n",
       "        vertical-align: middle;\n",
       "    }\n",
       "\n",
       "    .dataframe tbody tr th {\n",
       "        vertical-align: top;\n",
       "    }\n",
       "\n",
       "    .dataframe thead th {\n",
       "        text-align: right;\n",
       "    }\n",
       "</style>\n",
       "<table border=\"1\" class=\"dataframe\">\n",
       "  <thead>\n",
       "    <tr style=\"text-align: right;\">\n",
       "      <th></th>\n",
       "      <th>environment</th>\n",
       "    </tr>\n",
       "  </thead>\n",
       "  <tbody>\n",
       "    <tr>\n",
       "      <th>1</th>\n",
       "      <td>9</td>\n",
       "    </tr>\n",
       "    <tr>\n",
       "      <th>2</th>\n",
       "      <td>9</td>\n",
       "    </tr>\n",
       "    <tr>\n",
       "      <th>3</th>\n",
       "      <td>30</td>\n",
       "    </tr>\n",
       "    <tr>\n",
       "      <th>4</th>\n",
       "      <td>23</td>\n",
       "    </tr>\n",
       "    <tr>\n",
       "      <th>5</th>\n",
       "      <td>11</td>\n",
       "    </tr>\n",
       "  </tbody>\n",
       "</table>\n",
       "</div>"
      ],
      "text/plain": [
       "   environment\n",
       "1            9\n",
       "2            9\n",
       "3           30\n",
       "4           23\n",
       "5           11"
      ]
     },
     "execution_count": 17,
     "metadata": {},
     "output_type": "execute_result"
    }
   ],
   "source": [
    "### sort_index() orders the output according to the variable and in ascending order\n",
    "\n",
    "df['environment'].value_counts().sort_index().to_frame()"
   ]
  },
  {
   "cell_type": "code",
   "execution_count": 18,
   "id": "8b5fb756",
   "metadata": {},
   "outputs": [
    {
     "data": {
      "text/html": [
       "<div>\n",
       "<style scoped>\n",
       "    .dataframe tbody tr th:only-of-type {\n",
       "        vertical-align: middle;\n",
       "    }\n",
       "\n",
       "    .dataframe tbody tr th {\n",
       "        vertical-align: top;\n",
       "    }\n",
       "\n",
       "    .dataframe thead th {\n",
       "        text-align: right;\n",
       "    }\n",
       "</style>\n",
       "<table border=\"1\" class=\"dataframe\">\n",
       "  <thead>\n",
       "    <tr style=\"text-align: right;\">\n",
       "      <th></th>\n",
       "      <th>environment</th>\n",
       "    </tr>\n",
       "  </thead>\n",
       "  <tbody>\n",
       "    <tr>\n",
       "      <th>5</th>\n",
       "      <td>11</td>\n",
       "    </tr>\n",
       "    <tr>\n",
       "      <th>4</th>\n",
       "      <td>23</td>\n",
       "    </tr>\n",
       "    <tr>\n",
       "      <th>3</th>\n",
       "      <td>30</td>\n",
       "    </tr>\n",
       "    <tr>\n",
       "      <th>2</th>\n",
       "      <td>9</td>\n",
       "    </tr>\n",
       "    <tr>\n",
       "      <th>1</th>\n",
       "      <td>9</td>\n",
       "    </tr>\n",
       "  </tbody>\n",
       "</table>\n",
       "</div>"
      ],
      "text/plain": [
       "   environment\n",
       "5           11\n",
       "4           23\n",
       "3           30\n",
       "2            9\n",
       "1            9"
      ]
     },
     "execution_count": 18,
     "metadata": {},
     "output_type": "execute_result"
    }
   ],
   "source": [
    "### The opposite ordering is also possible by setting the parameter ascending to False\n",
    "\n",
    "df['environment'].value_counts().sort_index(ascending = False).to_frame()"
   ]
  },
  {
   "cell_type": "code",
   "execution_count": 19,
   "id": "598b68cc",
   "metadata": {},
   "outputs": [
    {
     "data": {
      "text/html": [
       "<div>\n",
       "<style scoped>\n",
       "    .dataframe tbody tr th:only-of-type {\n",
       "        vertical-align: middle;\n",
       "    }\n",
       "\n",
       "    .dataframe tbody tr th {\n",
       "        vertical-align: top;\n",
       "    }\n",
       "\n",
       "    .dataframe thead th {\n",
       "        text-align: right;\n",
       "    }\n",
       "</style>\n",
       "<table border=\"1\" class=\"dataframe\">\n",
       "  <thead>\n",
       "    <tr style=\"text-align: right;\">\n",
       "      <th></th>\n",
       "      <th>duties_obj</th>\n",
       "    </tr>\n",
       "  </thead>\n",
       "  <tbody>\n",
       "    <tr>\n",
       "      <th>Not satisfied or unsatisfied</th>\n",
       "      <td>29</td>\n",
       "    </tr>\n",
       "    <tr>\n",
       "      <th>Satisfied</th>\n",
       "      <td>25</td>\n",
       "    </tr>\n",
       "    <tr>\n",
       "      <th>Unsatisfied</th>\n",
       "      <td>15</td>\n",
       "    </tr>\n",
       "    <tr>\n",
       "      <th>Very satisfied</th>\n",
       "      <td>8</td>\n",
       "    </tr>\n",
       "    <tr>\n",
       "      <th>Very unsatisfied</th>\n",
       "      <td>5</td>\n",
       "    </tr>\n",
       "  </tbody>\n",
       "</table>\n",
       "</div>"
      ],
      "text/plain": [
       "                              duties_obj\n",
       "Not satisfied or unsatisfied          29\n",
       "Satisfied                             25\n",
       "Unsatisfied                           15\n",
       "Very satisfied                         8\n",
       "Very unsatisfied                       5"
      ]
     },
     "execution_count": 19,
     "metadata": {},
     "output_type": "execute_result"
    }
   ],
   "source": [
    "### sort_index() uses alphabetical ordering with object type variables\n",
    "### This seldom is what we want. An example:\n",
    "\n",
    "df['duties_obj'].value_counts().sort_index().to_frame()"
   ]
  },
  {
   "cell_type": "code",
   "execution_count": 20,
   "id": "37012366",
   "metadata": {},
   "outputs": [
    {
     "data": {
      "text/html": [
       "<div>\n",
       "<style scoped>\n",
       "    .dataframe tbody tr th:only-of-type {\n",
       "        vertical-align: middle;\n",
       "    }\n",
       "\n",
       "    .dataframe tbody tr th {\n",
       "        vertical-align: top;\n",
       "    }\n",
       "\n",
       "    .dataframe thead th {\n",
       "        text-align: right;\n",
       "    }\n",
       "</style>\n",
       "<table border=\"1\" class=\"dataframe\">\n",
       "  <thead>\n",
       "    <tr style=\"text-align: right;\">\n",
       "      <th></th>\n",
       "      <th>duties_obj</th>\n",
       "    </tr>\n",
       "  </thead>\n",
       "  <tbody>\n",
       "    <tr>\n",
       "      <th>Very unsatisfied</th>\n",
       "      <td>5</td>\n",
       "    </tr>\n",
       "    <tr>\n",
       "      <th>Unsatisfied</th>\n",
       "      <td>15</td>\n",
       "    </tr>\n",
       "    <tr>\n",
       "      <th>Not satisfied or unsatisfied</th>\n",
       "      <td>29</td>\n",
       "    </tr>\n",
       "    <tr>\n",
       "      <th>Satisfied</th>\n",
       "      <td>25</td>\n",
       "    </tr>\n",
       "    <tr>\n",
       "      <th>Very satisfied</th>\n",
       "      <td>8</td>\n",
       "    </tr>\n",
       "  </tbody>\n",
       "</table>\n",
       "</div>"
      ],
      "text/plain": [
       "                              duties_obj\n",
       "Very unsatisfied                       5\n",
       "Unsatisfied                           15\n",
       "Not satisfied or unsatisfied          29\n",
       "Satisfied                             25\n",
       "Very satisfied                         8"
      ]
     },
     "execution_count": 20,
     "metadata": {},
     "output_type": "execute_result"
    }
   ],
   "source": [
    "### A desired ordering is obtained using a list and the command reindex().\n",
    "### Note: the list must consist of the exact same values as the variable originally did.\n",
    "\n",
    "satisfactions = ['Very unsatisfied', 'Unsatisfied', 'Not satisfied or unsatisfied', 'Satisfied', 'Very satisfied']\n",
    "\n",
    "df['duties_obj'].value_counts().reindex(satisfactions).to_frame()"
   ]
  },
  {
   "cell_type": "markdown",
   "id": "3f786b79",
   "metadata": {},
   "source": [
    "## Displaying missing values"
   ]
  },
  {
   "cell_type": "code",
   "execution_count": 21,
   "id": "8106ee2c",
   "metadata": {},
   "outputs": [
    {
     "data": {
      "text/html": [
       "<div>\n",
       "<style scoped>\n",
       "    .dataframe tbody tr th:only-of-type {\n",
       "        vertical-align: middle;\n",
       "    }\n",
       "\n",
       "    .dataframe tbody tr th {\n",
       "        vertical-align: top;\n",
       "    }\n",
       "\n",
       "    .dataframe thead th {\n",
       "        text-align: right;\n",
       "    }\n",
       "</style>\n",
       "<table border=\"1\" class=\"dataframe\">\n",
       "  <thead>\n",
       "    <tr style=\"text-align: right;\">\n",
       "      <th></th>\n",
       "      <th>education</th>\n",
       "    </tr>\n",
       "  </thead>\n",
       "  <tbody>\n",
       "    <tr>\n",
       "      <th>1.0</th>\n",
       "      <td>27</td>\n",
       "    </tr>\n",
       "    <tr>\n",
       "      <th>2.0</th>\n",
       "      <td>30</td>\n",
       "    </tr>\n",
       "    <tr>\n",
       "      <th>3.0</th>\n",
       "      <td>22</td>\n",
       "    </tr>\n",
       "    <tr>\n",
       "      <th>4.0</th>\n",
       "      <td>2</td>\n",
       "    </tr>\n",
       "    <tr>\n",
       "      <th>NaN</th>\n",
       "      <td>1</td>\n",
       "    </tr>\n",
       "  </tbody>\n",
       "</table>\n",
       "</div>"
      ],
      "text/plain": [
       "     education\n",
       "1.0         27\n",
       "2.0         30\n",
       "3.0         22\n",
       "4.0          2\n",
       "NaN          1"
      ]
     },
     "execution_count": 21,
     "metadata": {},
     "output_type": "execute_result"
    }
   ],
   "source": [
    "### Missing values can also be displayed\n",
    "\n",
    "df['education'].value_counts(dropna = False).sort_index().to_frame()"
   ]
  },
  {
   "cell_type": "markdown",
   "id": "51523af4",
   "metadata": {},
   "source": [
    "## Displaying percentages"
   ]
  },
  {
   "cell_type": "code",
   "execution_count": 22,
   "id": "954cdb39",
   "metadata": {},
   "outputs": [
    {
     "data": {
      "text/html": [
       "<div>\n",
       "<style scoped>\n",
       "    .dataframe tbody tr th:only-of-type {\n",
       "        vertical-align: middle;\n",
       "    }\n",
       "\n",
       "    .dataframe tbody tr th {\n",
       "        vertical-align: top;\n",
       "    }\n",
       "\n",
       "    .dataframe thead th {\n",
       "        text-align: right;\n",
       "    }\n",
       "</style>\n",
       "<table border=\"1\" class=\"dataframe\">\n",
       "  <thead>\n",
       "    <tr style=\"text-align: right;\">\n",
       "      <th></th>\n",
       "      <th>education</th>\n",
       "      <th>%</th>\n",
       "    </tr>\n",
       "  </thead>\n",
       "  <tbody>\n",
       "    <tr>\n",
       "      <th>Comprehensive school level</th>\n",
       "      <td>27.0</td>\n",
       "      <td>33.333333</td>\n",
       "    </tr>\n",
       "    <tr>\n",
       "      <th>Upper secondary education</th>\n",
       "      <td>30.0</td>\n",
       "      <td>37.037037</td>\n",
       "    </tr>\n",
       "    <tr>\n",
       "      <th>Academic degree</th>\n",
       "      <td>22.0</td>\n",
       "      <td>27.160494</td>\n",
       "    </tr>\n",
       "    <tr>\n",
       "      <th>Higher academic degree</th>\n",
       "      <td>2.0</td>\n",
       "      <td>2.469136</td>\n",
       "    </tr>\n",
       "    <tr>\n",
       "      <th>Total</th>\n",
       "      <td>81.0</td>\n",
       "      <td>100.000000</td>\n",
       "    </tr>\n",
       "  </tbody>\n",
       "</table>\n",
       "</div>"
      ],
      "text/plain": [
       "                            education           %\n",
       "Comprehensive school level       27.0   33.333333\n",
       "Upper secondary education        30.0   37.037037\n",
       "Academic degree                  22.0   27.160494\n",
       "Higher academic degree            2.0    2.469136\n",
       "Total                            81.0  100.000000"
      ]
     },
     "execution_count": 22,
     "metadata": {},
     "output_type": "execute_result"
    }
   ],
   "source": [
    "### First we calculate frequencies of the variable education into the dataframe df1\n",
    "\n",
    "df1 = df['education'].value_counts().sort_index().to_frame()\n",
    "\n",
    "### Then we add column for percentages.\n",
    "### Results are shown as percentages by setting the parameter normalize as True.\n",
    "\n",
    "df1['%'] = df['education'].value_counts(normalize = True) * 100\n",
    "\n",
    "### Next text values, the kind what people understand, are given to variable values. See also variable descriptions in the Excel file.\n",
    "education = ['Comprehensive school level', 'Upper secondary education', 'Academic degree', 'Higher academic degree']\n",
    "df1.index = education\n",
    "\n",
    "### Add a row for total\n",
    "df1.loc['Total'] = df1.sum()\n",
    "\n",
    "### The dataframe df1 is now as displayed\n",
    "df1"
   ]
  },
  {
   "cell_type": "markdown",
   "id": "ecba91c4",
   "metadata": {},
   "source": [
    "## Categorical distribution"
   ]
  },
  {
   "cell_type": "code",
   "execution_count": 24,
   "id": "2adae766",
   "metadata": {},
   "outputs": [
    {
     "data": {
      "text/html": [
       "<div>\n",
       "<style scoped>\n",
       "    .dataframe tbody tr th:only-of-type {\n",
       "        vertical-align: middle;\n",
       "    }\n",
       "\n",
       "    .dataframe tbody tr th {\n",
       "        vertical-align: top;\n",
       "    }\n",
       "\n",
       "    .dataframe thead th {\n",
       "        text-align: right;\n",
       "    }\n",
       "</style>\n",
       "<table border=\"1\" class=\"dataframe\">\n",
       "  <thead>\n",
       "    <tr style=\"text-align: right;\">\n",
       "      <th></th>\n",
       "      <th>salary</th>\n",
       "    </tr>\n",
       "  </thead>\n",
       "  <tbody>\n",
       "    <tr>\n",
       "      <th>(1499.999, 2000.0]</th>\n",
       "      <td>19</td>\n",
       "    </tr>\n",
       "    <tr>\n",
       "      <th>(2000.0, 2500.0]</th>\n",
       "      <td>28</td>\n",
       "    </tr>\n",
       "    <tr>\n",
       "      <th>(2500.0, 3000.0]</th>\n",
       "      <td>22</td>\n",
       "    </tr>\n",
       "    <tr>\n",
       "      <th>(3000.0, 8000.0]</th>\n",
       "      <td>13</td>\n",
       "    </tr>\n",
       "    <tr>\n",
       "      <th>Total</th>\n",
       "      <td>82</td>\n",
       "    </tr>\n",
       "  </tbody>\n",
       "</table>\n",
       "</div>"
      ],
      "text/plain": [
       "                    salary\n",
       "(1499.999, 2000.0]      19\n",
       "(2000.0, 2500.0]        28\n",
       "(2500.0, 3000.0]        22\n",
       "(3000.0, 8000.0]        13\n",
       "Total                   82"
      ]
     },
     "execution_count": 24,
     "metadata": {},
     "output_type": "execute_result"
    }
   ],
   "source": [
    "### We first define boundaries between categories.\n",
    "\n",
    "bins = [1500, 2000, 2500, 3000, 8000]\n",
    "\n",
    "df2 = df['salary'].value_counts(bins = bins).sort_index().to_frame()\n",
    "\n",
    "df2.loc['Total'] = df2.sum()\n",
    "\n",
    "df2"
   ]
  },
  {
   "cell_type": "markdown",
   "id": "91a62ce5",
   "metadata": {},
   "source": [
    "## Cross tabulation"
   ]
  },
  {
   "cell_type": "code",
   "execution_count": 27,
   "id": "8fdca734",
   "metadata": {},
   "outputs": [
    {
     "data": {
      "text/html": [
       "<div>\n",
       "<style scoped>\n",
       "    .dataframe tbody tr th:only-of-type {\n",
       "        vertical-align: middle;\n",
       "    }\n",
       "\n",
       "    .dataframe tbody tr th {\n",
       "        vertical-align: top;\n",
       "    }\n",
       "\n",
       "    .dataframe thead th {\n",
       "        text-align: right;\n",
       "    }\n",
       "</style>\n",
       "<table border=\"1\" class=\"dataframe\">\n",
       "  <thead>\n",
       "    <tr style=\"text-align: right;\">\n",
       "      <th></th>\n",
       "      <th>Male</th>\n",
       "      <th>Female</th>\n",
       "    </tr>\n",
       "  </thead>\n",
       "  <tbody>\n",
       "    <tr>\n",
       "      <th>Comprehensive school level</th>\n",
       "      <td>22.0</td>\n",
       "      <td>5.0</td>\n",
       "    </tr>\n",
       "    <tr>\n",
       "      <th>Upper secondary education</th>\n",
       "      <td>23.0</td>\n",
       "      <td>7.0</td>\n",
       "    </tr>\n",
       "    <tr>\n",
       "      <th>Academic degree</th>\n",
       "      <td>15.0</td>\n",
       "      <td>7.0</td>\n",
       "    </tr>\n",
       "    <tr>\n",
       "      <th>Higher academic degree</th>\n",
       "      <td>2.0</td>\n",
       "      <td>NaN</td>\n",
       "    </tr>\n",
       "    <tr>\n",
       "      <th>Total</th>\n",
       "      <td>62.0</td>\n",
       "      <td>19.0</td>\n",
       "    </tr>\n",
       "  </tbody>\n",
       "</table>\n",
       "</div>"
      ],
      "text/plain": [
       "                            Male  Female\n",
       "Comprehensive school level  22.0     5.0\n",
       "Upper secondary education   23.0     7.0\n",
       "Academic degree             15.0     7.0\n",
       "Higher academic degree       2.0     NaN\n",
       "Total                       62.0    19.0"
      ]
     },
     "execution_count": 27,
     "metadata": {},
     "output_type": "execute_result"
    }
   ],
   "source": [
    "### In cross tabulation the command groupby() can be utilized.\n",
    "### In the following code used unstack transfers the values of the categorical variable sex to the columns.\n",
    "\n",
    "df3= df.groupby('sex')['education'].value_counts().sort_index().unstack('sex')\n",
    "\n",
    "### Next we define the row labels.\n",
    "df3.index = education\n",
    "df3.loc['Total'] = df3.sum()\n",
    "\n",
    "# Here we redefine the column labels.\n",
    "df3.columns=['Male', 'Female']\n",
    "\n",
    "df3\n"
   ]
  },
  {
   "cell_type": "markdown",
   "id": "1a0b9b8a",
   "metadata": {},
   "source": [
    "## Several frequencies with same range into one table"
   ]
  },
  {
   "cell_type": "code",
   "execution_count": 28,
   "id": "df91c1c4",
   "metadata": {
    "scrolled": true
   },
   "outputs": [
    {
     "data": {
      "text/html": [
       "<div>\n",
       "<style scoped>\n",
       "    .dataframe tbody tr th:only-of-type {\n",
       "        vertical-align: middle;\n",
       "    }\n",
       "\n",
       "    .dataframe tbody tr th {\n",
       "        vertical-align: top;\n",
       "    }\n",
       "\n",
       "    .dataframe thead th {\n",
       "        text-align: right;\n",
       "    }\n",
       "</style>\n",
       "<table border=\"1\" class=\"dataframe\">\n",
       "  <thead>\n",
       "    <tr style=\"text-align: right;\">\n",
       "      <th></th>\n",
       "      <th>management, n =82</th>\n",
       "      <th>colleagues, n =81</th>\n",
       "      <th>environment, n =82</th>\n",
       "      <th>salary_level, n =82</th>\n",
       "      <th>duties, n =82</th>\n",
       "    </tr>\n",
       "  </thead>\n",
       "  <tbody>\n",
       "    <tr>\n",
       "      <th>Very unsatisfied</th>\n",
       "      <td>8.536585</td>\n",
       "      <td>NaN</td>\n",
       "      <td>10.975610</td>\n",
       "      <td>40.243902</td>\n",
       "      <td>6.097561</td>\n",
       "    </tr>\n",
       "    <tr>\n",
       "      <th>Unsatisfied</th>\n",
       "      <td>19.512195</td>\n",
       "      <td>3.703704</td>\n",
       "      <td>10.975610</td>\n",
       "      <td>23.170732</td>\n",
       "      <td>18.292683</td>\n",
       "    </tr>\n",
       "    <tr>\n",
       "      <th>Not satisfied or unsatisfied</th>\n",
       "      <td>36.585366</td>\n",
       "      <td>19.753086</td>\n",
       "      <td>36.585366</td>\n",
       "      <td>23.170732</td>\n",
       "      <td>35.365854</td>\n",
       "    </tr>\n",
       "    <tr>\n",
       "      <th>Satisfied</th>\n",
       "      <td>28.048780</td>\n",
       "      <td>43.209877</td>\n",
       "      <td>28.048780</td>\n",
       "      <td>12.195122</td>\n",
       "      <td>30.487805</td>\n",
       "    </tr>\n",
       "    <tr>\n",
       "      <th>Very satisfied</th>\n",
       "      <td>7.317073</td>\n",
       "      <td>33.333333</td>\n",
       "      <td>13.414634</td>\n",
       "      <td>1.219512</td>\n",
       "      <td>9.756098</td>\n",
       "    </tr>\n",
       "    <tr>\n",
       "      <th>Total</th>\n",
       "      <td>100.000000</td>\n",
       "      <td>100.000000</td>\n",
       "      <td>100.000000</td>\n",
       "      <td>100.000000</td>\n",
       "      <td>100.000000</td>\n",
       "    </tr>\n",
       "  </tbody>\n",
       "</table>\n",
       "</div>"
      ],
      "text/plain": [
       "                              management, n =82  colleagues, n =81  \\\n",
       "Very unsatisfied                       8.536585                NaN   \n",
       "Unsatisfied                           19.512195           3.703704   \n",
       "Not satisfied or unsatisfied          36.585366          19.753086   \n",
       "Satisfied                             28.048780          43.209877   \n",
       "Very satisfied                         7.317073          33.333333   \n",
       "Total                                100.000000         100.000000   \n",
       "\n",
       "                              environment, n =82  salary_level, n =82  \\\n",
       "Very unsatisfied                       10.975610            40.243902   \n",
       "Unsatisfied                            10.975610            23.170732   \n",
       "Not satisfied or unsatisfied           36.585366            23.170732   \n",
       "Satisfied                              28.048780            12.195122   \n",
       "Very satisfied                         13.414634             1.219512   \n",
       "Total                                 100.000000           100.000000   \n",
       "\n",
       "                              duties, n =82  \n",
       "Very unsatisfied                   6.097561  \n",
       "Unsatisfied                       18.292683  \n",
       "Not satisfied or unsatisfied      35.365854  \n",
       "Satisfied                         30.487805  \n",
       "Very satisfied                     9.756098  \n",
       "Total                            100.000000  "
      ]
     },
     "execution_count": 28,
     "metadata": {},
     "output_type": "execute_result"
    }
   ],
   "source": [
    "### Frequencies of the first variable\n",
    "\n",
    "df4 = df['management'].value_counts(sort = False, normalize = True).to_frame()\n",
    "\n",
    "### Next frequencies of other variables are added.\n",
    "\n",
    "df4['colleagues'] = df['colleagues'].value_counts(sort = False, normalize = True)\n",
    "df4['environment'] = df['environment'].value_counts(sort = False, normalize = True)\n",
    "df4['salary_level'] = df['salary_level'].value_counts(sort = False, normalize = True)\n",
    "df4['duties'] = df['duties'].value_counts(sort = False, normalize = True)\n",
    "\n",
    "### We use text formulation of the numbers in range from the list satisfactions above.\n",
    "\n",
    "df4.index = satisfactions\n",
    "\n",
    "df4.loc['Total'] = df4.sum()\n",
    "\n",
    "### The following code adds the total of columns to the column headers\n",
    "\n",
    "for var in df4.columns:\n",
    "    df4 = df4.rename(columns = {var : var + ', n =' + str(df[var].count())})\n",
    "    \n",
    "df4 * 100\n"
   ]
  },
  {
   "cell_type": "markdown",
   "id": "7edabea0",
   "metadata": {},
   "source": [
    "### Further information\n",
    "\n",
    "<ul>\n",
    "    <li><a href=\"https://pandas.pydata.org/pandas-docs/stable/reference/api/pandas.Series.value_counts.html\">\n",
    "        https://pandas.pydata.org/pandas-docs/stable/reference/api/pandas.Series.value_counts.html </a></li>    \n",
    "</ul>"
   ]
  },
  {
   "cell_type": "markdown",
   "id": "7cb64723",
   "metadata": {},
   "source": [
    "Source and origin of inspiration: <br />\n",
    "Aki Taanila: Data-analytiikka Pythonilla: <a href=\"https://tilastoapu.wordpress.com/python/\">https://tilastoapu.wordpress.com/python/</a>"
   ]
  }
 ],
 "metadata": {
  "kernelspec": {
   "display_name": "Python 3",
   "language": "python",
   "name": "python3"
  },
  "language_info": {
   "codemirror_mode": {
    "name": "ipython",
    "version": 3
   },
   "file_extension": ".py",
   "mimetype": "text/x-python",
   "name": "python",
   "nbconvert_exporter": "python",
   "pygments_lexer": "ipython3",
   "version": "3.7.10"
  }
 },
 "nbformat": 4,
 "nbformat_minor": 5
}
